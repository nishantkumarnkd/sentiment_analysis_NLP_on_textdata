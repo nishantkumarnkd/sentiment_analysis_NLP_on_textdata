{
 "cells": [
  {
   "cell_type": "code",
   "execution_count": 18,
   "metadata": {},
   "outputs": [],
   "source": [
    "import pandas as pd\n",
    "reviews_df = pd.read_csv('Amazon_Reviews.csv')\n",
    "#reviews.head(10)\n",
    "reviews_df['Label']=reviews_df['Label'].map({'__label__2 ':1,'__label__1 ':0})\n",
    "reviews_df\n",
    "from sklearn.model_selection import train_test_split\n",
    "y = reviews_df['Label']\n",
    "reviews_df.drop(columns='Label',inplace=True)\n",
    "\n",
    "X_train,X_test,y_train,y_test= train_test_split(reviews_df,y,test_size=.2,random_state=42)\n"
   ]
  },
  {
   "cell_type": "code",
   "execution_count": 19,
   "metadata": {},
   "outputs": [],
   "source": [
    "import nltk\n",
    "from nltk.tokenize import word_tokenize,sent_tokenize\n",
    "from nltk.tokenize import RegexpTokenizer\n",
    "from nltk.corpus import stopwords\n",
    "from nltk.stem import WordNetLemmatizer,PorterStemmer\n"
   ]
  },
  {
   "cell_type": "code",
   "execution_count": 20,
   "metadata": {},
   "outputs": [
    {
     "name": "stderr",
     "output_type": "stream",
     "text": [
      "C:\\Users\\Admin\\Anaconda3\\lib\\site-packages\\ipykernel_launcher.py:13: SettingWithCopyWarning: \n",
      "A value is trying to be set on a copy of a slice from a DataFrame.\n",
      "Try using .loc[row_indexer,col_indexer] = value instead\n",
      "\n",
      "See the caveats in the documentation: http://pandas.pydata.org/pandas-docs/stable/indexing.html#indexing-view-versus-copy\n",
      "  del sys.path[0]\n"
     ]
    }
   ],
   "source": [
    "tokenizer = RegexpTokenizer(r'\\w+')\n",
    "lemmatizer = WordNetLemmatizer()\n",
    "stemmer = PorterStemmer()\n",
    "\n",
    "def preprocessing(review):\n",
    "    final_tokens = ' '\n",
    "    tokens = tokenizer.tokenize(review)\n",
    "    pure_tokens = [token.lower() for token in tokens if token.lower() not in stopwords.words('english')]\n",
    "    lemmas_tokens = [lemmatizer.lemmatize(pure_token) for pure_token in pure_tokens]\n",
    "    \n",
    "    final_tokens = final_tokens.join(lemmas_tokens)\n",
    "    return final_tokens\n",
    "X_train['Cleaned_text'] = X_train['Review'].apply(preprocessing)        "
   ]
  },
  {
   "cell_type": "code",
   "execution_count": 21,
   "metadata": {},
   "outputs": [
    {
     "name": "stderr",
     "output_type": "stream",
     "text": [
      "C:\\Users\\Admin\\Anaconda3\\lib\\site-packages\\ipykernel_launcher.py:1: SettingWithCopyWarning: \n",
      "A value is trying to be set on a copy of a slice from a DataFrame.\n",
      "Try using .loc[row_indexer,col_indexer] = value instead\n",
      "\n",
      "See the caveats in the documentation: http://pandas.pydata.org/pandas-docs/stable/indexing.html#indexing-view-versus-copy\n",
      "  \"\"\"Entry point for launching an IPython kernel.\n"
     ]
    }
   ],
   "source": [
    "X_test['Cleaned_text'] = X_test['Review'].apply(preprocessing)\n"
   ]
  },
  {
   "cell_type": "code",
   "execution_count": 22,
   "metadata": {},
   "outputs": [
    {
     "name": "stdout",
     "output_type": "stream",
     "text": [
      "  (0, 1005)\t0.15094474636574956\n",
      "  (0, 2287)\t0.29534410163545854\n",
      "  (0, 1021)\t0.11580965667338965\n",
      "  (0, 803)\t0.1315046854991435\n",
      "  (0, 460)\t0.1315046854991435\n",
      "  (0, 2233)\t0.12013297888044212\n",
      "  (0, 1409)\t0.11206462463253741\n",
      "  (0, 1385)\t0.15094474636574956\n",
      "  (0, 1943)\t0.15094474636574956\n",
      "  (0, 648)\t0.1395730397470482\n",
      "  (0, 2454)\t0.1395730397470482\n",
      "  (0, 62)\t0.12013297888044212\n",
      "  (0, 2252)\t0.07499455538794908\n",
      "  (0, 286)\t0.1395730397470482\n",
      "  (0, 1482)\t0.11580965667338965\n",
      "  (0, 2021)\t0.11206462463253741\n",
      "  (0, 222)\t0.1395730397470482\n",
      "  (0, 2221)\t0.2791460794940964\n",
      "  (0, 57)\t0.1395730397470482\n",
      "  (0, 837)\t0.1395730397470482\n",
      "  (0, 283)\t0.15094474636574956\n",
      "  (0, 1029)\t0.1315046854991435\n",
      "  (0, 740)\t0.0849978891880822\n",
      "  (0, 1337)\t0.15094474636574956\n",
      "  (0, 511)\t0.103133246002185\n",
      "  :\t:\n",
      "  (158, 1357)\t0.3335569354901401\n",
      "  (158, 1333)\t0.12770199415622277\n",
      "  (158, 1315)\t0.14687352786525884\n",
      "  (158, 2064)\t0.15235650400807577\n",
      "  (158, 434)\t0.16677846774507005\n",
      "  (158, 2488)\t0.14687352786525884\n",
      "  (158, 1958)\t0.14687352786525884\n",
      "  (158, 1825)\t0.14212395789321708\n",
      "  (158, 1348)\t0.16677846774507005\n",
      "  (158, 2499)\t0.16677846774507005\n",
      "  (158, 2369)\t0.17701101385992876\n",
      "  (158, 1974)\t0.15884148835808135\n",
      "  (158, 1589)\t0.15884148835808135\n",
      "  (158, 183)\t0.15884148835808135\n",
      "  (158, 767)\t0.17701101385992876\n",
      "  (158, 2051)\t0.17701101385992876\n",
      "  (158, 2190)\t0.17701101385992876\n",
      "  (158, 2245)\t0.19143297759692304\n",
      "  (158, 264)\t0.19143297759692304\n",
      "  (158, 2432)\t0.19143297759692304\n",
      "  (158, 1230)\t0.19143297759692304\n",
      "  (158, 704)\t0.19143297759692304\n",
      "  (158, 1041)\t0.19143297759692304\n",
      "  (158, 1034)\t0.19143297759692304\n",
      "  (158, 993)\t0.19143297759692304\n"
     ]
    }
   ],
   "source": [
    "from sklearn.feature_extraction.text import TfidfVectorizer\n",
    "tfidfvect = TfidfVectorizer()\n",
    "X_train_tfidf = tfidfvect.fit_transform(X_train['Cleaned_text'])\n",
    "X_test_tfidf = tfidfvect.transform(X_test['Cleaned_text'])\n",
    "print(X_train_tfidf)\n"
   ]
  },
  {
   "cell_type": "code",
   "execution_count": 28,
   "metadata": {},
   "outputs": [
    {
     "data": {
      "text/plain": [
       "array([1, 0, 1, 1, 0, 1, 1, 1, 1, 1, 1, 0, 1, 0, 0, 1, 1, 1, 0, 1, 1, 1,\n",
       "       1, 1, 1, 1, 0, 1, 1, 1, 0, 1, 1, 1, 1, 1, 0, 0, 1, 0], dtype=int64)"
      ]
     },
     "execution_count": 28,
     "metadata": {},
     "output_type": "execute_result"
    }
   ],
   "source": [
    "from sklearn.naive_bayes import GaussianNB,MultinomialNB\n",
    "from sklearn.metrics import confusion_matrix,f1_score,roc_curve\n",
    "clf = MultinomialNB().fit(X_train_tfidf.toarray(),y_train)\n",
    "y_pred = clf.predict(X_test_tfidf.toarray())\n",
    "y_pred\n",
    "\n",
    "\n",
    "                       "
   ]
  },
  {
   "cell_type": "code",
   "execution_count": 29,
   "metadata": {},
   "outputs": [
    {
     "data": {
      "text/plain": [
       "array([[ 9,  6],\n",
       "       [ 2, 23]], dtype=int64)"
      ]
     },
     "execution_count": 29,
     "metadata": {},
     "output_type": "execute_result"
    }
   ],
   "source": [
    "confusion_matrix(y_test,y_pred)"
   ]
  },
  {
   "cell_type": "code",
   "execution_count": 57,
   "metadata": {},
   "outputs": [
    {
     "data": {
      "text/plain": [
       "85.18518518518519"
      ]
     },
     "execution_count": 57,
     "metadata": {},
     "output_type": "execute_result"
    }
   ],
   "source": [
    "f1_score(y_test,y_pred)*100"
   ]
  },
  {
   "cell_type": "code",
   "execution_count": 58,
   "metadata": {},
   "outputs": [
    {
     "data": {
      "image/png": "[encoded data removed]",
      "text/plain": [
       "<Figure size 432x288 with 1 Axes>"
      ]
     },
     "metadata": {
      "needs_background": "light"
     },
     "output_type": "display_data"
    }
   ],
   "source": [
    "import matplotlib.pyplot as plt\n",
    "y_pred_proba = clf.predict_proba(X_test_tfidf.toarray())[::,1]\n",
    "fpr,tpr,threshold = roc_curve(y_test,y_pred_proba)\n",
    "plt.plot(fpr,tpr)\n",
    "\n",
    "plt.xlabel('FPR')\n",
    "plt.ylabel('TPR')\n",
    "plt.title('ROC_curve')\n",
    "plt.show()"
   ]
  },
  {
   "cell_type": "code",
   "execution_count": 59,
   "metadata": {},
   "outputs": [
    {
     "name": "stderr",
     "output_type": "stream",
     "text": [
      "C:\\Users\\Admin\\Anaconda3\\lib\\site-packages\\sklearn\\linear_model\\logistic.py:433: FutureWarning: Default solver will be changed to 'lbfgs' in 0.22. Specify a solver to silence this warning.\n",
      "  FutureWarning)\n"
     ]
    },
    {
     "data": {
      "text/plain": [
       "array([1, 0, 1, 1, 0, 1, 1, 1, 1, 1, 0, 0, 1, 0, 0, 1, 1, 1, 0, 1, 1, 1,\n",
       "       1, 1, 1, 1, 0, 1, 1, 1, 0, 1, 1, 1, 1, 1, 0, 1, 1, 0], dtype=int64)"
      ]
     },
     "execution_count": 59,
     "metadata": {},
     "output_type": "execute_result"
    }
   ],
   "source": [
    "from sklearn.linear_model import LogisticRegression\n",
    "lr = LogisticRegression()\n",
    "lr.fit(X_train_tfidf,y_train)\n",
    "predicted = lr.predict(X_test_tfidf)\n",
    "predicted"
   ]
  },
  {
   "cell_type": "code",
   "execution_count": 60,
   "metadata": {},
   "outputs": [
    {
     "data": {
      "text/plain": [
       "88.8888888888889"
      ]
     },
     "execution_count": 60,
     "metadata": {},
     "output_type": "execute_result"
    }
   ],
   "source": [
    "f1_score(y_test,predicted)*100"
   ]
  },
  {
   "cell_type": "code",
   "execution_count": 61,
   "metadata": {},
   "outputs": [
    {
     "data": {
      "text/plain": [
       "array([1, 0, 1, 1, 0, 1, 1, 1, 1, 1, 0, 0, 0, 0, 0, 1, 1, 1, 0, 1, 1, 1,\n",
       "       1, 1, 1, 1, 0, 1, 1, 1, 0, 1, 1, 1, 1, 1, 0, 0, 0, 0], dtype=int64)"
      ]
     },
     "execution_count": 61,
     "metadata": {},
     "output_type": "execute_result"
    }
   ],
   "source": [
    "from sklearn.svm import SVC\n",
    "svc = SVC(kernel='linear')\n",
    "svc.fit(X_train_tfidf,y_train)\n",
    "svc_pred = svc.predict(X_test_tfidf)\n",
    "svc_pred"
   ]
  },
  {
   "cell_type": "code",
   "execution_count": 62,
   "metadata": {},
   "outputs": [
    {
     "data": {
      "text/plain": [
       "90.19607843137256"
      ]
     },
     "execution_count": 62,
     "metadata": {},
     "output_type": "execute_result"
    }
   ],
   "source": [
    "f1_score(y_test,svc_pred)*100"
   ]
  }
 ],
 "metadata": {
  "kernelspec": {
   "display_name": "Python 3",
   "language": "python",
   "name": "python3"
  },
  "language_info": {
   "codemirror_mode": {
    "name": "ipython",
    "version": 3
   },
   "file_extension": ".py",
   "mimetype": "text/x-python",
   "name": "python",
   "nbconvert_exporter": "python",
   "pygments_lexer": "ipython3",
   "version": "3.7.3"
  }
 },
 "nbformat": 4,
 "nbformat_minor": 2
}
